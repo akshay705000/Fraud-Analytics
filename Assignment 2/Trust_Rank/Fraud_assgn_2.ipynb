{
  "nbformat": 4,
  "nbformat_minor": 0,
  "metadata": {
    "colab": {
      "provenance": []
    },
    "kernelspec": {
      "name": "python3",
      "display_name": "Python 3"
    },
    "language_info": {
      "name": "python"
    }
  },
  "cells": [
    {
      "cell_type": "code",
      "source": [
        "# Importing libraries\n",
        "import csv\n",
        "from matplotlib import pyplot as plt\n",
        "import collections\n",
        "import threading\n",
        "import time"
      ],
      "metadata": {
        "id": "nDUuTdFGEZOP"
      },
      "execution_count": 1,
      "outputs": []
    },
    {
      "cell_type": "markdown",
      "source": [
        "The class Pregel is designed to simulate a distributed system for graph processing, inspired by Google's Pregel architecture\n",
        "\n",
        "**Purpose of the Pregel Class :**    \n",
        "\n",
        "**Distributed Graph Processing:** The Pregel system is meant for efficient large-scale graph processing. It is structured to handle computations in which data is represented as a graph. Examples of such computations include calculating the shortest paths, PageRank, and more complex algorithms like clustering and graph analytics.\n",
        "\n",
        "**Vertex-Centric Computation:** Each vertex in the graph executes the same algorithm in parallel, using its local data and messages received from other vertices. This model allows for highly scalable and distributed computations."
      ],
      "metadata": {
        "id": "dh8O4YBlb86d"
      }
    },
    {
      "cell_type": "code",
      "source": [
        "class Pregel():\n",
        "\n",
        "    def __init__(self,vertices,num_workers):\n",
        "        self.vertices = vertices\n",
        "        self.num_workers = num_workers\n",
        "\n",
        "    # Runs the Pregel instance\n",
        "    def run(self):\n",
        "        \"\"\"\"\"\"\n",
        "        self.partition = self.partition_vertices()\n",
        "        while self.check_active():\n",
        "            self.superstep()\n",
        "            self.redistribute_messages()\n",
        "\n",
        "    # Returns a dict with keys 0,...,self.num_workers-1 representing the worker threads.\n",
        "    # The corresponding values are lists of vertices assigned to that worker.\n",
        "    def partition_vertices(self):\n",
        "        partition = collections.defaultdict(list)\n",
        "        each = len(self.vertices) // self.num_workers\n",
        "\n",
        "        for i in range(self.num_workers):\n",
        "            partition[i] = self.vertices[i*each: (i+1)*each]\n",
        "\n",
        "            if i == self.num_workers-1:\n",
        "                partition[i] = self.vertices[i*each: ]\n",
        "\n",
        "        return partition\n",
        "\n",
        "    # Represents a single iteration of the computation across all vertices\n",
        "    def superstep(self):\n",
        "        workers = []\n",
        "        for vertex_list in self.partition.values():\n",
        "            worker = Worker(vertex_list)\n",
        "            workers.append(worker)\n",
        "            #print(f\" Worker started with vertices list : {[v.id for v in vertex_list]}\")\n",
        "            worker.start()\n",
        "        for worker in workers:\n",
        "            worker.join()\n",
        "\n",
        "    # Updates the message lists for all vertices.\n",
        "    def redistribute_messages(self):\n",
        "        for vertex in self.vertices:\n",
        "            vertex.superstep +=1\n",
        "            vertex.incoming_messages = []\n",
        "        for vertex in self.vertices:\n",
        "            for (receiving_vertix,message) in vertex.outgoing_messages:\n",
        "                receiving_vertix.incoming_messages.append((vertex,message))\n",
        "\n",
        "    # Returns True if there are any active vertices, and False otherwise.\n",
        "    def check_active(self):\n",
        "        return any([vertex.active for vertex in self.vertices])"
      ],
      "metadata": {
        "id": "LC2OpiARb7O1"
      },
      "execution_count": 14,
      "outputs": []
    },
    {
      "cell_type": "markdown",
      "source": [
        "The Worker class is a Python thread that is responsible for processing a subset of vertices in a graph, as part of the Pregel framework for distributed graph computation."
      ],
      "metadata": {
        "id": "PJ3FVk7afdhP"
      }
    },
    {
      "cell_type": "code",
      "source": [
        "class Worker(threading.Thread):\n",
        "\n",
        "    def __init__(self,vertices):\n",
        "        threading.Thread.__init__(self)\n",
        "        self.vertices = vertices\n",
        "\n",
        "    def run(self):\n",
        "        self.superstep()\n",
        "\n",
        "    # Completes a single superstep for all the vertices in self.\n",
        "    def superstep(self):\n",
        "        for vertex in self.vertices:\n",
        "            if vertex.active:\n",
        "                vertex.update() # main TrustRank computation is done here only"
      ],
      "metadata": {
        "id": "4vTCzZg6eFlG"
      },
      "execution_count": 3,
      "outputs": []
    },
    {
      "cell_type": "code",
      "source": [
        "class Vertex():\n",
        "\n",
        "    def __init__(self,id,value,out_vertices):\n",
        "        self.id = id\n",
        "        self.value = value\n",
        "        self.out_vertices = out_vertices\n",
        "        self.incoming_messages = []\n",
        "        self.outgoing_messages = []\n",
        "        self.active = True\n",
        "        self.superstep = 0"
      ],
      "metadata": {
        "id": "KoNETQ-5effZ"
      },
      "execution_count": 4,
      "outputs": []
    },
    {
      "cell_type": "code",
      "source": [
        "# Trust Rank Vertex Algo\n",
        "class TrustRankVertex(Vertex):\n",
        "\n",
        "    def __init__(self,id,value,out_vertices,d_score, dampingFactor=0.85,iterations=50):\n",
        "        Vertex.__init__(self,id,value,out_vertices)\n",
        "        self.dampingFactor = dampingFactor\n",
        "        self.num_supersteps = iterations\n",
        "        self.d_score = d_score\n",
        "\n",
        "    def update(self):\n",
        "\n",
        "        if self.superstep < self.num_supersteps:\n",
        "            message_sum = 0\n",
        "            for (vertex,message) in self.incoming_messages:\n",
        "                message_sum = message_sum+message\n",
        "            self.value = (1-self.dampingFactor)*self.d_score + self.dampingFactor*message_sum\n",
        "            total_weight = 0.0\n",
        "            for (vertex,weight) in self.out_vertices:\n",
        "                total_weight+=weight\n",
        "            self.outgoing_messages = [(vertex,self.value*(weight/total_weight)) for (vertex,weight) in self.out_vertices]\n",
        "        else:\n",
        "            self.active = False"
      ],
      "metadata": {
        "id": "iAxtTF_9Fe-1"
      },
      "execution_count": 5,
      "outputs": []
    },
    {
      "cell_type": "code",
      "source": [
        "# List of Nodes\n",
        "def node_list(file_name):\n",
        "    with open(file_name, mode ='r')as file:\n",
        "        csvFile = csv.reader(file)\n",
        "        # displaying the contents of the CSV file\n",
        "        s = set()\n",
        "        weights = dict()\n",
        "        i = True\n",
        "        for lines in csvFile:\n",
        "            if i:\n",
        "               i= False\n",
        "               continue\n",
        "            s.add(int(lines[0]))\n",
        "            s.add(int(lines[1]))\n",
        "            tup = (int(lines[0]),int(lines[1]))\n",
        "            if tup not in weights:\n",
        "                weights[tup] = float(lines[2])\n",
        "            else:\n",
        "                weights[tup]+=float(lines[2])\n",
        "\n",
        "        nodes = [i for i in s]\n",
        "        nodes = sorted(nodes)\n",
        "        return [weights,nodes]"
      ],
      "metadata": {
        "id": "VacMlrhTFpgB"
      },
      "execution_count": 6,
      "outputs": []
    },
    {
      "cell_type": "code",
      "source": [
        "# Reading bad nodes\n",
        "def read_bad_nodes(filename):\n",
        "     with open(filename, mode ='r')as file:\n",
        "        csvFile = csv.reader(file)\n",
        "        # displaying the contents of the CSV file\n",
        "        s = set()\n",
        "        i = True\n",
        "        for lines in csvFile:\n",
        "            if i:\n",
        "               i= False\n",
        "               continue\n",
        "            s.add(int(lines[0]))\n",
        "        return s"
      ],
      "metadata": {
        "id": "Zcc_YtndFzD9"
      },
      "execution_count": 7,
      "outputs": []
    },
    {
      "cell_type": "code",
      "source": [
        "# Calculating Trust Score\n",
        "def cal_trust_scores(nodes, bad_nodes):\n",
        "    scores = []\n",
        "    total = 0\n",
        "    for i in nodes:\n",
        "        if i in bad_nodes:\n",
        "            scores.append(1)\n",
        "            total+=1\n",
        "        else:\n",
        "            scores.append(0)\n",
        "\n",
        "    scores = [i/total for i in scores]\n",
        "    return scores"
      ],
      "metadata": {
        "id": "RL3q_EKZF5Ni"
      },
      "execution_count": 8,
      "outputs": []
    },
    {
      "cell_type": "code",
      "source": [
        "# Updating Out Going Vertices\n",
        "def updateOutGoingVertices(vertex, weights):\n",
        "    for i in weights:\n",
        "        fro = i[0]\n",
        "        to = i[1]\n",
        "        for v in vertex:\n",
        "                for u in vertex:\n",
        "                    if v.id == fro and u.id == to:\n",
        "                        v.out_vertices.append((u,weights[i]))"
      ],
      "metadata": {
        "id": "uWW1sOuvF_P3"
      },
      "execution_count": 9,
      "outputs": []
    },
    {
      "cell_type": "code",
      "source": [
        "# Pregel Trust Rank\n",
        "def pregelTrustrank(vertices):\n",
        "    p = Pregel(vertices,num_workers)\n",
        "    p.run()\n",
        "    return [(vertex.id, vertex.value) for vertex in p.vertices]"
      ],
      "metadata": {
        "id": "jZAj0VMjGE9i"
      },
      "execution_count": 10,
      "outputs": []
    },
    {
      "cell_type": "code",
      "execution_count": 15,
      "metadata": {
        "colab": {
          "base_uri": "https://localhost:8080/",
          "height": 430
        },
        "id": "gEJKOD8PqZZi",
        "outputId": "ecba7239-cebd-4641-a924-d8d509c36c79"
      },
      "outputs": [
        {
          "output_type": "display_data",
          "data": {
            "text/plain": [
              "<Figure size 640x480 with 1 Axes>"
            ],
            "image/png": "[encoded data removed]"
          },
          "metadata": {}
        }
      ],
      "source": [
        "num_workers = 4\n",
        "weights,nodes = node_list('Payments.csv')\n",
        "bad_nodes = read_bad_nodes('bad_sender.csv')\n",
        "trust_vector = cal_trust_scores(nodes,bad_nodes)\n",
        "\n",
        "vertices = []\n",
        "for i in range(len(nodes)):\n",
        "    vertices.append(TrustRankVertex(nodes[i],trust_vector[i],[],trust_vector[i],0.85,20))\n",
        "\n",
        "updateOutGoingVertices(vertices, weights)\n",
        "\n",
        "node_trust_ranks = pregelTrustrank(vertices)\n",
        "\n",
        "ans = [i[1] for i in node_trust_ranks]\n",
        "plt.hist(ans, bins = 'auto')\n",
        "plt.yscale('log')\n",
        "plt.show()"
      ]
    },
    {
      "cell_type": "code",
      "source": [
        "import matplotlib.pyplot as plt\n",
        "\n",
        "# Splitting the trust ranks into good and bad based on the node ID presence in the bad_nodes set.\n",
        "bad_trust_ranks = [rank for (node_id, rank) in node_trust_ranks if node_id in bad_nodes]\n",
        "\n",
        "# Plotting histograms bad nodes\n",
        "plt.figure(figsize=(10, 5))\n",
        "plt.hist(bad_trust_ranks, bins='auto', alpha=0.7, label='Bad Nodes')\n",
        "plt.yscale('log')\n",
        "plt.xlabel('Trust Rank')\n",
        "plt.ylabel('Frequency (Log Scale)')\n",
        "plt.title('Bad Nodes')\n",
        "plt.legend()\n",
        "plt.show()"
      ],
      "metadata": {
        "colab": {
          "base_uri": "https://localhost:8080/",
          "height": 487
        },
        "id": "R2NPv-4QVmpc",
        "outputId": "1809c137-d02e-4d67-a33a-5c57fb04966e"
      },
      "execution_count": 16,
      "outputs": [
        {
          "output_type": "display_data",
          "data": {
            "text/plain": [
              "<Figure size 1000x500 with 1 Axes>"
            ],
            "image/png": "[encoded data removed]"
          },
          "metadata": {}
        }
      ]
    }
  ]
}